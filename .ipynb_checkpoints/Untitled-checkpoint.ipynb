{
 "cells": [
  {
   "cell_type": "code",
   "execution_count": 14,
   "metadata": {},
   "outputs": [],
   "source": [
    "from wordcloud import WordCloud, STOPWORDS\n",
    "import matplotlib.pyplot as plt\n",
    "import pandas as pd"
   ]
  },
  {
   "cell_type": "code",
   "execution_count": 15,
   "metadata": {},
   "outputs": [],
   "source": [
    "data = pd.read_csv('data.csv')"
   ]
  },
  {
   "cell_type": "code",
   "execution_count": 16,
   "metadata": {},
   "outputs": [
    {
     "data": {
      "text/html": [
       "<div>\n",
       "<style scoped>\n",
       "    .dataframe tbody tr th:only-of-type {\n",
       "        vertical-align: middle;\n",
       "    }\n",
       "\n",
       "    .dataframe tbody tr th {\n",
       "        vertical-align: top;\n",
       "    }\n",
       "\n",
       "    .dataframe thead th {\n",
       "        text-align: right;\n",
       "    }\n",
       "</style>\n",
       "<table border=\"1\" class=\"dataframe\">\n",
       "  <thead>\n",
       "    <tr style=\"text-align: right;\">\n",
       "      <th></th>\n",
       "      <th>Movie_N</th>\n",
       "      <th>Genre</th>\n",
       "      <th>Review</th>\n",
       "      <th>Stars</th>\n",
       "      <th>Reviews_preprocessed</th>\n",
       "      <th>Part_of_Speech</th>\n",
       "    </tr>\n",
       "  </thead>\n",
       "  <tbody>\n",
       "    <tr>\n",
       "      <th>0</th>\n",
       "      <td>The Old Guard</td>\n",
       "      <td>['Action', 'Adventure', 'Fantasy', 'Thriller']</td>\n",
       "      <td>Love the concept, execution is not bad (there ...</td>\n",
       "      <td>7</td>\n",
       "      <td>['ove', 'concept', ',', 'execution', 'bad', '(...</td>\n",
       "      <td>[('L', 'NNP'), ('o', 'MD'), ('v', 'VB'), ('e',...</td>\n",
       "    </tr>\n",
       "    <tr>\n",
       "      <th>1</th>\n",
       "      <td>The Old Guard</td>\n",
       "      <td>['Action', 'Adventure', 'Fantasy', 'Thriller']</td>\n",
       "      <td>There were just so many clichés, cringe, and n...</td>\n",
       "      <td>5</td>\n",
       "      <td>['many', 'clichés', ',', 'cringe', ',', 'naive...</td>\n",
       "      <td>[('T', 'NNP'), ('h', 'NN'), ('e', 'NN'), ('r',...</td>\n",
       "    </tr>\n",
       "    <tr>\n",
       "      <th>2</th>\n",
       "      <td>The Old Guard</td>\n",
       "      <td>['Action', 'Adventure', 'Fantasy', 'Thriller']</td>\n",
       "      <td>The actors are all good. Well that's it. The s...</td>\n",
       "      <td>5</td>\n",
       "      <td>['actor', 'good', '.', 'well', \"'s\", '.', 'sto...</td>\n",
       "      <td>[('T', 'NNP'), ('h', 'NN'), ('e', 'NN'), (' ',...</td>\n",
       "    </tr>\n",
       "    <tr>\n",
       "      <th>3</th>\n",
       "      <td>The Old Guard</td>\n",
       "      <td>['Action', 'Adventure', 'Fantasy', 'Thriller']</td>\n",
       "      <td>My mind kept referring back to Austin Powers. ...</td>\n",
       "      <td>9</td>\n",
       "      <td>['mind', 'kept', 'referring', 'back', 'austin'...</td>\n",
       "      <td>[('M', 'NNP'), ('y', 'PRP'), (' ', 'VBP'), ('m...</td>\n",
       "    </tr>\n",
       "    <tr>\n",
       "      <th>4</th>\n",
       "      <td>The Old Guard</td>\n",
       "      <td>['Action', 'Adventure', 'Fantasy', 'Thriller']</td>\n",
       "      <td>The London scenes at the end were just bizarre...</td>\n",
       "      <td>5</td>\n",
       "      <td>['london', 'scene', 'end', 'bizarre', '.', 'em...</td>\n",
       "      <td>[('T', 'NNP'), ('h', 'NN'), ('e', 'NN'), (' ',...</td>\n",
       "    </tr>\n",
       "  </tbody>\n",
       "</table>\n",
       "</div>"
      ],
      "text/plain": [
       "         Movie_N                                           Genre  \\\n",
       "0  The Old Guard  ['Action', 'Adventure', 'Fantasy', 'Thriller']   \n",
       "1  The Old Guard  ['Action', 'Adventure', 'Fantasy', 'Thriller']   \n",
       "2  The Old Guard  ['Action', 'Adventure', 'Fantasy', 'Thriller']   \n",
       "3  The Old Guard  ['Action', 'Adventure', 'Fantasy', 'Thriller']   \n",
       "4  The Old Guard  ['Action', 'Adventure', 'Fantasy', 'Thriller']   \n",
       "\n",
       "                                              Review  Stars  \\\n",
       "0  Love the concept, execution is not bad (there ...      7   \n",
       "1  There were just so many clichés, cringe, and n...      5   \n",
       "2  The actors are all good. Well that's it. The s...      5   \n",
       "3  My mind kept referring back to Austin Powers. ...      9   \n",
       "4  The London scenes at the end were just bizarre...      5   \n",
       "\n",
       "                                Reviews_preprocessed  \\\n",
       "0  ['ove', 'concept', ',', 'execution', 'bad', '(...   \n",
       "1  ['many', 'clichés', ',', 'cringe', ',', 'naive...   \n",
       "2  ['actor', 'good', '.', 'well', \"'s\", '.', 'sto...   \n",
       "3  ['mind', 'kept', 'referring', 'back', 'austin'...   \n",
       "4  ['london', 'scene', 'end', 'bizarre', '.', 'em...   \n",
       "\n",
       "                                      Part_of_Speech  \n",
       "0  [('L', 'NNP'), ('o', 'MD'), ('v', 'VB'), ('e',...  \n",
       "1  [('T', 'NNP'), ('h', 'NN'), ('e', 'NN'), ('r',...  \n",
       "2  [('T', 'NNP'), ('h', 'NN'), ('e', 'NN'), (' ',...  \n",
       "3  [('M', 'NNP'), ('y', 'PRP'), (' ', 'VBP'), ('m...  \n",
       "4  [('T', 'NNP'), ('h', 'NN'), ('e', 'NN'), (' ',...  "
      ]
     },
     "execution_count": 16,
     "metadata": {},
     "output_type": "execute_result"
    }
   ],
   "source": [
    "data.head()"
   ]
  },
  {
   "cell_type": "code",
   "execution_count": 17,
   "metadata": {},
   "outputs": [],
   "source": [
    "def word_cloud(df):\n",
    "        \"\"\"\n",
    "        Takes in dataframe and plots a wordclous using matplotlib\n",
    "        \"\"\"\n",
    "        plt.subplots(figsize = (12,10))\n",
    "        wordcloud = WordCloud(\n",
    "                                background_color = 'white',\n",
    "                                width = 1000,\n",
    "                                height = 800).generate(\" \".join(df))\n",
    "        plt.imshow(wordcloud)\n",
    "        plt.axis('off')\n",
    "        plt.show()"
   ]
  },
  {
   "cell_type": "code",
   "execution_count": 18,
   "metadata": {},
   "outputs": [
    {
     "data": {
      "text/plain": [
       "0       Love the concept, execution is not bad (there ...\n",
       "1       There were just so many clichés, cringe, and n...\n",
       "2       The actors are all good. Well that's it. The s...\n",
       "3       My mind kept referring back to Austin Powers. ...\n",
       "4       The London scenes at the end were just bizarre...\n",
       "                              ...                        \n",
       "5676    My only complaint is that the movie could have...\n",
       "5677    Though the movie might have been right on tech...\n",
       "5678    I felt the movie could have been longer with a...\n",
       "5679           The climax (if any) was not up to the mark\n",
       "5680    U571 and Das Boot had done a better job long t...\n",
       "Name: Review, Length: 5681, dtype: object"
      ]
     },
     "execution_count": 18,
     "metadata": {},
     "output_type": "execute_result"
    }
   ],
   "source": [
    "data['Review']"
   ]
  },
  {
   "cell_type": "code",
   "execution_count": 19,
   "metadata": {},
   "outputs": [
    {
     "ename": "NameError",
     "evalue": "name 'WordCloud' is not defined",
     "output_type": "error",
     "traceback": [
      "\u001b[0;31m---------------------------------------------------------------------------\u001b[0m",
      "\u001b[0;31mNameError\u001b[0m                                 Traceback (most recent call last)",
      "\u001b[0;32m<ipython-input-19-5040b4baf61d>\u001b[0m in \u001b[0;36m<module>\u001b[0;34m\u001b[0m\n\u001b[0;32m----> 1\u001b[0;31m \u001b[0mword_cloud\u001b[0m\u001b[0;34m(\u001b[0m\u001b[0mdf\u001b[0m\u001b[0;34m=\u001b[0m\u001b[0mdata\u001b[0m\u001b[0;34m[\u001b[0m\u001b[0;34m'Review'\u001b[0m\u001b[0;34m]\u001b[0m\u001b[0;34m)\u001b[0m\u001b[0;34m\u001b[0m\u001b[0;34m\u001b[0m\u001b[0m\n\u001b[0m",
      "\u001b[0;32m<ipython-input-17-00a16329c75a>\u001b[0m in \u001b[0;36mword_cloud\u001b[0;34m(df)\u001b[0m\n\u001b[1;32m      4\u001b[0m         \"\"\"\n\u001b[1;32m      5\u001b[0m         \u001b[0mplt\u001b[0m\u001b[0;34m.\u001b[0m\u001b[0msubplots\u001b[0m\u001b[0;34m(\u001b[0m\u001b[0mfigsize\u001b[0m \u001b[0;34m=\u001b[0m \u001b[0;34m(\u001b[0m\u001b[0;36m12\u001b[0m\u001b[0;34m,\u001b[0m\u001b[0;36m10\u001b[0m\u001b[0;34m)\u001b[0m\u001b[0;34m)\u001b[0m\u001b[0;34m\u001b[0m\u001b[0;34m\u001b[0m\u001b[0m\n\u001b[0;32m----> 6\u001b[0;31m         wordcloud = WordCloud(\n\u001b[0m\u001b[1;32m      7\u001b[0m                                 \u001b[0mbackground_color\u001b[0m \u001b[0;34m=\u001b[0m \u001b[0;34m'white'\u001b[0m\u001b[0;34m,\u001b[0m\u001b[0;34m\u001b[0m\u001b[0;34m\u001b[0m\u001b[0m\n\u001b[1;32m      8\u001b[0m                                 \u001b[0mwidth\u001b[0m \u001b[0;34m=\u001b[0m \u001b[0;36m1000\u001b[0m\u001b[0;34m,\u001b[0m\u001b[0;34m\u001b[0m\u001b[0;34m\u001b[0m\u001b[0m\n",
      "\u001b[0;31mNameError\u001b[0m: name 'WordCloud' is not defined"
     ]
    },
    {
     "data": {
      "image/png": "[encoded data removed]",
      "text/plain": [
       "<Figure size 864x720 with 1 Axes>"
      ]
     },
     "metadata": {
      "needs_background": "light"
     },
     "output_type": "display_data"
    }
   ],
   "source": [
    "word_cloud(df=data['Review'])"
   ]
  },
  {
   "cell_type": "code",
   "execution_count": null,
   "metadata": {},
   "outputs": [],
   "source": []
  }
 ],
 "metadata": {
  "kernelspec": {
   "display_name": "Python 3",
   "language": "python",
   "name": "python3"
  },
  "language_info": {
   "codemirror_mode": {
    "name": "ipython",
    "version": 3
   },
   "file_extension": ".py",
   "mimetype": "text/x-python",
   "name": "python",
   "nbconvert_exporter": "python",
   "pygments_lexer": "ipython3",
   "version": "3.8.3"
  }
 },
 "nbformat": 4,
 "nbformat_minor": 4
}
